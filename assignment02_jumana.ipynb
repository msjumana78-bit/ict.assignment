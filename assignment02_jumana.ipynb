{
  "nbformat": 4,
  "nbformat_minor": 0,
  "metadata": {
    "colab": {
      "provenance": [],
      "authorship_tag": "ABX9TyPTAu2AgdGFD2TAMLXVX4XH",
      "include_colab_link": true
    },
    "kernelspec": {
      "name": "python3",
      "display_name": "Python 3"
    },
    "language_info": {
      "name": "python"
    }
  },
  "cells": [
    {
      "cell_type": "markdown",
      "metadata": {
        "id": "view-in-github",
        "colab_type": "text"
      },
      "source": [
        "<a href=\"https://colab.research.google.com/github/msjumana78-bit/ict.assignment/blob/main/assignment02_jumana.ipynb\" target=\"_parent\"><img src=\"https://colab.research.google.com/assets/colab-badge.svg\" alt=\"Open In Colab\"/></a>"
      ]
    },
    {
      "cell_type": "code",
      "execution_count": 7,
      "metadata": {
        "colab": {
          "base_uri": "https://localhost:8080/"
        },
        "id": "EUlWsFiyBEBd",
        "outputId": "5d0bf056-d350-4280-bd79-0f6150533ade"
      },
      "outputs": [
        {
          "output_type": "stream",
          "name": "stdout",
          "text": [
            "1\n",
            "2\n",
            "Fizz\n",
            "4\n",
            "Buzz\n",
            "Fizz\n",
            "7\n",
            "8\n",
            "Fizz\n"
          ]
        }
      ],
      "source": [
        "'''FizzBuzz: For a given range of numbers (e.g., 1 to 100), print \"Fizz\" if the number is\n",
        "divisible by 3, \"Buzz\" if it's divisible by 5, and \"FizzBuzz\" if it's divisible by both. Otherwise,\n",
        "print the number itself'''\n",
        "\n",
        "for i in range(1, 10):\n",
        "    if i % 3 == 0 and i % 5 == 0:\n",
        "        print(\"FizzBuzz\")\n",
        "    elif i % 3 == 0:\n",
        "        print(\"Fizz\")\n",
        "    elif i % 5 == 0:\n",
        "        print(\"Buzz\")\n",
        "    else:\n",
        "        print(i)"
      ]
    },
    {
      "cell_type": "code",
      "source": [
        "'''Create a bill calculator where the user enters the number of units consumed. ₹5 per\n",
        "unit for the first 100 units ₹7 per unit for the next 100 units (from 101 to 200) ₹10 per\n",
        "unit for any units above 200 Calculate and display the total electricity bill.\n",
        "Sample Input:\n",
        "Enter units consumed: 245\n",
        "Sample Output:\n",
        "Total Bill Amount: ₹1650'''\n",
        "\n",
        "units = int(input(\"Enter units consumed: \"))\n",
        "bill = 0\n",
        "if units <= 100:\n",
        "    bill = units * 5\n",
        "elif units <= 200:\n",
        "    bill = (100 * 5) + (units - 100) * 7\n",
        "else:\n",
        "    bill = (100 * 5) + (100 * 7) + (units - 200) * 10\n",
        "print(\"Total Bill Amount: bill\")"
      ],
      "metadata": {
        "colab": {
          "base_uri": "https://localhost:8080/"
        },
        "id": "gs7x3lTLCKHK",
        "outputId": "889a49ac-b0ba-4d4e-bf18-8e10d224ac6f"
      },
      "execution_count": 9,
      "outputs": [
        {
          "output_type": "stream",
          "name": "stdout",
          "text": [
            "Enter units consumed: 67\n",
            "Total Bill Amount: ₹335\n"
          ]
        }
      ]
    },
    {
      "cell_type": "code",
      "source": [
        "'''Display a pattern for a simple progress indicator'''\n",
        "\n",
        "for i in range(1, 6):\n",
        "    print('*' * i)"
      ],
      "metadata": {
        "colab": {
          "base_uri": "https://localhost:8080/"
        },
        "id": "pbOZBS5UD0yw",
        "outputId": "f72396c9-c710-49ed-cfb2-b7c49d9eee28"
      },
      "execution_count": 11,
      "outputs": [
        {
          "output_type": "stream",
          "name": "stdout",
          "text": [
            "*\n",
            "**\n",
            "***\n",
            "****\n",
            "*****\n"
          ]
        }
      ]
    },
    {
      "cell_type": "code",
      "source": [
        "'''Develop a Python program that checks whether a given word or phrase is a\n",
        "palindrome.\n",
        "Sample input\n",
        "Enter num or string to be checked = 121\n",
        "Sample Output\n",
        "Given num/string is Palindrome'''\n",
        "\n",
        "\n",
        "p = float(input(\"enter num or string to be checked:\"))\n",
        "p = str(p)\n",
        "rev = p[::-1]\n",
        "if p == rev:\n",
        "  print(\"given number is palindrome\")\n",
        "else:\n",
        "  print(\"given number is not palindrome\")"
      ],
      "metadata": {
        "colab": {
          "base_uri": "https://localhost:8080/"
        },
        "id": "9Cqc1lT6EX2f",
        "outputId": "5a48a26b-df43-4a00-c2fa-69d88b4e7dfd"
      },
      "execution_count": 27,
      "outputs": [
        {
          "output_type": "stream",
          "name": "stdout",
          "text": [
            "enter num or string to be checked:23\n",
            "given number is not palindrome\n"
          ]
        }
      ]
    },
    {
      "cell_type": "code",
      "source": [],
      "metadata": {
        "id": "pyVpCflPKkqh"
      },
      "execution_count": null,
      "outputs": []
    }
  ]
}