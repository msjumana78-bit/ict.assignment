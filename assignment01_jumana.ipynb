{
  "nbformat": 4,
  "nbformat_minor": 0,
  "metadata": {
    "colab": {
      "provenance": [],
      "authorship_tag": "ABX9TyM3nElCI5hJEgp7WY3wwCDc",
      "include_colab_link": true
    },
    "kernelspec": {
      "name": "python3",
      "display_name": "Python 3"
    },
    "language_info": {
      "name": "python"
    }
  },
  "cells": [
    {
      "cell_type": "markdown",
      "metadata": {
        "id": "view-in-github",
        "colab_type": "text"
      },
      "source": [
        "<a href=\"https://colab.research.google.com/github/msjumana78-bit/ict.assignment/blob/main/assignment01_jumana.ipynb\" target=\"_parent\"><img src=\"https://colab.research.google.com/assets/colab-badge.svg\" alt=\"Open In Colab\"/></a>"
      ]
    },
    {
      "cell_type": "code",
      "source": [
        "\n",
        "                                                  `'''A shopkeeper wants to calculate the total bill for two items.\n",
        " Write a program that takes the price and quantity of each item and prints the total bill amount.\n",
        "Sample Input:\n",
        "Item1 price: 45\n",
        "Item1 quantity: 3\n",
        "Item2 price: 30\n",
        "Item2 quantity: 2\n",
        "Sample Output:\n",
        "Total Bill: 195'''\n",
        "\n",
        "print(\"grocery bill\")\n",
        "item_1 = 45\n",
        "item_2 = 78\n",
        "\n",
        "quantity_1 =  item_1*3\n",
        "quantity_2 = item_2*2\n",
        "\n",
        "total_bill = quantity_1 + quantity_2\n",
        "print(total_bill)"
      ],
      "metadata": {
        "colab": {
          "base_uri": "https://localhost:8080/"
        },
        "id": "EwCr7coGZnCD",
        "outputId": "c2e764fe-94d6-40c6-95e5-090b812a64e8"
      },
      "execution_count": null,
      "outputs": [
        {
          "output_type": "stream",
          "name": "stdout",
          "text": [
            "grocery bill\n",
            "291\n"
          ]
        }
      ]
    },
    {
      "cell_type": "code",
      "source": [
        "'''Write a program to convert temperature from Celsius to Fahrenheit using the formula °F = (°C × 9/5) + 32.\n",
        "Sample Input:\n",
        "Enter temperature in Celsius: 30\n",
        "Sample Output:\n",
        "Temperature in Fahrenheit: 86.0'''\n",
        "\n",
        "print(\"temperature conversion\")\n",
        "cel = float(input(\"enter temperature in celcius\"))\n",
        "faren = (cel*9/5)+32\n",
        "print(faren)"
      ],
      "metadata": {
        "colab": {
          "base_uri": "https://localhost:8080/"
        },
        "id": "owFVGA2qaraq",
        "outputId": "7666071f-2036-4223-f816-7fc6fcf76751"
      },
      "execution_count": null,
      "outputs": [
        {
          "output_type": "stream",
          "name": "stdout",
          "text": [
            "temperature conversion\n",
            "enter temperature in celcius30\n",
            "86.0\n"
          ]
        }
      ]
    },
    {
      "cell_type": "code",
      "source": [
        "'''Given the basic salary of an employee, calculate the total salary including HRA (20%) and DA (10%).\n",
        "Sample Input:\n",
        "Enter basic salary: 20000\n",
        "Sample Output:\n",
        "Net Salary: 26000.0'''\n",
        "\n",
        "salary = int(input(\"enter your salary:\"))\n",
        "salary_hra = salary*20/100 + salary\n",
        "salary_d = salary_hra*10/100 + salary\n",
        "print(salary_d)\n",
        "\n"
      ],
      "metadata": {
        "colab": {
          "base_uri": "https://localhost:8080/"
        },
        "id": "_4RwFenncxTC",
        "outputId": "6f35353c-ee7e-463f-d4e8-2966fa1812fd"
      },
      "execution_count": null,
      "outputs": [
        {
          "output_type": "stream",
          "name": "stdout",
          "text": [
            "enter your salary:300000\n",
            "336000.0\n"
          ]
        }
      ]
    },
    {
      "cell_type": "code",
      "source": [
        "4\n",
        "\n",
        "print(\"interest calculator\")\n",
        "p = int(input(\"enter principal:\"))\n",
        "r = float(input(\"enter rate of interest\"))\n",
        "t = int(input(\"time(in years)\"))\n",
        "si = (p*r*t)/100\n",
        "print(si)\n",
        "\n",
        "\n",
        "\n"
      ],
      "metadata": {
        "colab": {
          "base_uri": "https://localhost:8080/"
        },
        "id": "FAln3WLwdjF4",
        "outputId": "bdfb19cf-0269-4523-ef56-5f1e993ae54e"
      },
      "execution_count": null,
      "outputs": [
        {
          "output_type": "stream",
          "name": "stdout",
          "text": [
            "interest calculator\n",
            "enter principal:10000\n",
            "enter rate of interest5\n",
            "time(in years)2\n",
            "1000.0\n"
          ]
        }
      ]
    },
    {
      "cell_type": "code",
      "source": [
        "5\n",
        "\n",
        "print(\"Time conversion\")\n",
        "minutes = float(input(\"Enter total input:\"))\n",
        "hours = minutes/60\n",
        "print(hours)"
      ],
      "metadata": {
        "colab": {
          "base_uri": "https://localhost:8080/"
        },
        "id": "HxV182t86mxb",
        "outputId": "4f5bcf51-bcaa-46e6-d20b-442a5ddcb51f"
      },
      "execution_count": 5,
      "outputs": [
        {
          "output_type": "stream",
          "name": "stdout",
          "text": [
            "Time conversion\n",
            "Enter total input:120\n",
            "2.0\n"
          ]
        }
      ]
    },
    {
      "cell_type": "code",
      "source": [
        "6\n",
        "\n",
        "print(\"BMI calculator\")\n",
        "w = float(input(\"enter the weight:\"))\n",
        "h = float(input(\"enter the height:\"))\n",
        "BMI = w/(h*h)\n",
        "print(\"BMI\",BMI)"
      ],
      "metadata": {
        "colab": {
          "base_uri": "https://localhost:8080/"
        },
        "id": "sHh-W81k6vTR",
        "outputId": "231aaee3-f749-4e63-8bd7-85b41f6ea21e"
      },
      "execution_count": 6,
      "outputs": [
        {
          "output_type": "stream",
          "name": "stdout",
          "text": [
            "BMI calculator\n",
            "enter the weight:56\n",
            "enter the height:21\n",
            "BMI 0.12698412698412698\n"
          ]
        }
      ]
    },
    {
      "cell_type": "code",
      "source": [
        "7\n",
        "\n",
        "print(\"discount calculation\")\n",
        "og_price = int(input(\"enter the original price:\"))\n",
        "dis_price = og_price - (10/100)\n",
        "print(\"discount price\",dis_price)\n"
      ],
      "metadata": {
        "colab": {
          "base_uri": "https://localhost:8080/"
        },
        "id": "oz0-2k5t_Fzn",
        "outputId": "caecaa1f-e03f-42c7-e41d-ff55f237afcd"
      },
      "execution_count": 7,
      "outputs": [
        {
          "output_type": "stream",
          "name": "stdout",
          "text": [
            "discount calculation\n",
            "enter the original price:3000\n",
            "discount price 2999.9\n"
          ]
        }
      ]
    },
    {
      "cell_type": "code",
      "source": [
        "8\n",
        "\n",
        "a = float(input(\"enter the side a\"))\n",
        "b = float(input(\"enter the side b\"))\n",
        "c = float(input(\"enter the side c\"))\n",
        "s = (a+b+c)/2\n",
        "area = (s*(s-a)*(s-b)*(s-c)**(0.5))\n",
        "print(f\"area of the triangle:{area:2f}\")"
      ],
      "metadata": {
        "colab": {
          "base_uri": "https://localhost:8080/"
        },
        "id": "6LrE8ANWBEGF",
        "outputId": "fc3e591c-3f10-4f06-9231-1afcd94f773e"
      },
      "execution_count": 9,
      "outputs": [
        {
          "output_type": "stream",
          "name": "stdout",
          "text": [
            "enter the side a5\n",
            "enter the side b6\n",
            "enter the side c7\n",
            "area of the triangle:152.735065\n"
          ]
        }
      ]
    },
    {
      "cell_type": "code",
      "source": [
        "9\n",
        "\n",
        "print(\"Paint Cost Estimator\")\n",
        "l = float(input(\"Enter length of the wall:\"))\n",
        "b = float(input(\"Enter breadth of the wall:\"))\n",
        "area = l * b\n",
        "area_w = 2*(1.5 * 1.2)\n",
        "paint = area - area_w\n",
        "print(paint,\"sq.m\")\n",
        "cost = paint * 25\n",
        "print(cost)"
      ],
      "metadata": {
        "colab": {
          "base_uri": "https://localhost:8080/"
        },
        "id": "pUz8trZYEOfC",
        "outputId": "126eb8db-1065-4a16-8b9d-42e0e0663543"
      },
      "execution_count": 10,
      "outputs": [
        {
          "output_type": "stream",
          "name": "stdout",
          "text": [
            "Paint Cost Estimator\n",
            "Enter length of the wall:3\n",
            "Enter breadth of the wall:6\n",
            "14.4 sq.m\n",
            "360.0\n"
          ]
        }
      ]
    },
    {
      "cell_type": "code",
      "source": [
        "10\n",
        "\n",
        "units = float(input(\"Enter number of units consumed: \"))\n",
        "rate_per_unit = 5.2\n",
        "fixed_charge = 100\n",
        "bill = (units*rate_per_unit)+fixed_charge\n",
        "print(f\"Electricity Bill: ₹{bill:.1f}\")"
      ],
      "metadata": {
        "colab": {
          "base_uri": "https://localhost:8080/"
        },
        "id": "L6GTcUKVFUXx",
        "outputId": "51fdcdcf-0ce9-4173-b395-c9321fc074e2"
      },
      "execution_count": 11,
      "outputs": [
        {
          "output_type": "stream",
          "name": "stdout",
          "text": [
            "Enter number of units consumed: 7\n",
            "Electricity Bill: ₹136.4\n"
          ]
        }
      ]
    },
    {
      "cell_type": "code",
      "source": [],
      "metadata": {
        "id": "ETRFA7MRTi-d"
      },
      "execution_count": null,
      "outputs": []
    }
  ]
}